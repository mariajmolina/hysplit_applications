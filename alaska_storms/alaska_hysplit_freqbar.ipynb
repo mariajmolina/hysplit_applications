{
 "cells": [
  {
   "cell_type": "code",
   "execution_count": 1,
   "metadata": {},
   "outputs": [],
   "source": [
    "import pysplit\n",
    "import pandas as pd\n",
    "import numpy as np\n",
    "from wrf import getvar, get_basemap, latlon_coords\n",
    "from netCDF4 import Dataset\n",
    "import matplotlib.pyplot as plt\n",
    "import seaborn as sns\n",
    "import argparse\n",
    "import matplotlib as mpl\n",
    "import xarray as xr\n",
    "from itertools import product\n",
    "import matplotlib.patheffects as path_effects"
   ]
  },
  {
   "cell_type": "code",
   "execution_count": 2,
   "metadata": {},
   "outputs": [],
   "source": [
    "def regions_to_str(number):\n",
    "    \n",
    "    m = {\n",
    "         1: 'West Coast',\n",
    "         3: 'Central Interior',\n",
    "         4: 'North Slope',\n",
    "         5: 'Northeast Interior',\n",
    "         6: 'Southeast Interior'\n",
    "        }\n",
    "\n",
    "    try:\n",
    "        out = m[number]\n",
    "        return out\n",
    "    \n",
    "    except:\n",
    "        raise ValueError('Not a region')"
   ]
  },
  {
   "cell_type": "code",
   "execution_count": 3,
   "metadata": {},
   "outputs": [],
   "source": [
    "maskfile = xr.open_dataset('/glade/scratch/molina/basile/maskfile.nc')\n",
    "land=np.ma.masked_where(maskfile.land.values==1, maskfile.land.values)\n",
    "goa=np.ma.masked_where(maskfile.goa.values==1, maskfile.goa.values)\n",
    "bs=np.ma.masked_where(maskfile.bs.values==1, maskfile.bs.values)\n",
    "ao=np.ma.masked_where(maskfile.ao.values==1, maskfile.ao.values)"
   ]
  },
  {
   "cell_type": "code",
   "execution_count": 4,
   "metadata": {},
   "outputs": [],
   "source": [
    "which_climate='hist'\n",
    "\n",
    "ds1=xr.open_dataset(f\"/glade/scratch/molina/basile/traj_files/trajfile_jun_subregion1_{which_climate}.nc\").frequency\n",
    "ds2=xr.open_dataset(f\"/glade/scratch/molina/basile/traj_files/trajfile_jun_subregion3_{which_climate}.nc\").frequency\n",
    "ds3=xr.open_dataset(f\"/glade/scratch/molina/basile/traj_files/trajfile_jun_subregion4_{which_climate}.nc\").frequency\n",
    "ds4=xr.open_dataset(f\"/glade/scratch/molina/basile/traj_files/trajfile_jun_subregion5_{which_climate}.nc\").frequency\n",
    "ds5=xr.open_dataset(f\"/glade/scratch/molina/basile/traj_files/trajfile_jun_subregion6_{which_climate}.nc\").frequency\n",
    "\n",
    "ds6=xr.open_dataset(f\"/glade/scratch/molina/basile/traj_files/trajfile_jul_subregion1_{which_climate}.nc\").frequency\n",
    "ds7=xr.open_dataset(f\"/glade/scratch/molina/basile/traj_files/trajfile_jul_subregion3_{which_climate}.nc\").frequency\n",
    "ds8=xr.open_dataset(f\"/glade/scratch/molina/basile/traj_files/trajfile_jul_subregion4_{which_climate}.nc\").frequency\n",
    "ds9=xr.open_dataset(f\"/glade/scratch/molina/basile/traj_files/trajfile_jul_subregion5_{which_climate}.nc\").frequency\n",
    "ds10=xr.open_dataset(f\"/glade/scratch/molina/basile/traj_files/trajfile_jul_subregion6_{which_climate}.nc\").frequency\n",
    "\n",
    "ds11=xr.open_dataset(f\"/glade/scratch/molina/basile/traj_files/trajfile_aug_subregion1_{which_climate}.nc\").frequency\n",
    "ds12=xr.open_dataset(f\"/glade/scratch/molina/basile/traj_files/trajfile_aug_subregion3_{which_climate}.nc\").frequency\n",
    "ds13=xr.open_dataset(f\"/glade/scratch/molina/basile/traj_files/trajfile_aug_subregion4_{which_climate}.nc\").frequency\n",
    "ds14=xr.open_dataset(f\"/glade/scratch/molina/basile/traj_files/trajfile_aug_subregion5_{which_climate}.nc\").frequency\n",
    "ds15=xr.open_dataset(f\"/glade/scratch/molina/basile/traj_files/trajfile_aug_subregion6_{which_climate}.nc\").frequency\n",
    "\n",
    "reg1c=ds1+ds6+ds11\n",
    "reg3c=ds2+ds7+ds12\n",
    "reg4c=ds3+ds8+ds13\n",
    "reg5c=ds4+ds9+ds14\n",
    "reg6c=ds5+ds10+ds15"
   ]
  },
  {
   "cell_type": "code",
   "execution_count": 5,
   "metadata": {},
   "outputs": [],
   "source": [
    "which_climate='pgw'\n",
    "\n",
    "ds1=xr.open_dataset(f\"/glade/scratch/molina/basile/traj_files/trajfile_jun_subregion1_{which_climate}.nc\").frequency\n",
    "ds2=xr.open_dataset(f\"/glade/scratch/molina/basile/traj_files/trajfile_jun_subregion3_{which_climate}.nc\").frequency\n",
    "ds3=xr.open_dataset(f\"/glade/scratch/molina/basile/traj_files/trajfile_jun_subregion4_{which_climate}.nc\").frequency\n",
    "ds4=xr.open_dataset(f\"/glade/scratch/molina/basile/traj_files/trajfile_jun_subregion5_{which_climate}.nc\").frequency\n",
    "ds5=xr.open_dataset(f\"/glade/scratch/molina/basile/traj_files/trajfile_jun_subregion6_{which_climate}.nc\").frequency\n",
    "\n",
    "ds6=xr.open_dataset(f\"/glade/scratch/molina/basile/traj_files/trajfile_jul_subregion1_{which_climate}.nc\").frequency\n",
    "ds7=xr.open_dataset(f\"/glade/scratch/molina/basile/traj_files/trajfile_jul_subregion3_{which_climate}.nc\").frequency\n",
    "ds8=xr.open_dataset(f\"/glade/scratch/molina/basile/traj_files/trajfile_jul_subregion4_{which_climate}.nc\").frequency\n",
    "ds9=xr.open_dataset(f\"/glade/scratch/molina/basile/traj_files/trajfile_jul_subregion5_{which_climate}.nc\").frequency\n",
    "ds10=xr.open_dataset(f\"/glade/scratch/molina/basile/traj_files/trajfile_jul_subregion6_{which_climate}.nc\").frequency\n",
    "\n",
    "ds11=xr.open_dataset(f\"/glade/scratch/molina/basile/traj_files/trajfile_aug_subregion1_{which_climate}.nc\").frequency\n",
    "ds12=xr.open_dataset(f\"/glade/scratch/molina/basile/traj_files/trajfile_aug_subregion3_{which_climate}.nc\").frequency\n",
    "ds13=xr.open_dataset(f\"/glade/scratch/molina/basile/traj_files/trajfile_aug_subregion4_{which_climate}.nc\").frequency\n",
    "ds14=xr.open_dataset(f\"/glade/scratch/molina/basile/traj_files/trajfile_aug_subregion5_{which_climate}.nc\").frequency\n",
    "ds15=xr.open_dataset(f\"/glade/scratch/molina/basile/traj_files/trajfile_aug_subregion6_{which_climate}.nc\").frequency\n",
    "\n",
    "reg1f=ds1+ds6+ds11\n",
    "reg3f=ds2+ds7+ds12\n",
    "reg4f=ds3+ds8+ds13\n",
    "reg5f=ds4+ds9+ds14\n",
    "reg6f=ds5+ds10+ds15"
   ]
  },
  {
   "cell_type": "code",
   "execution_count": 6,
   "metadata": {},
   "outputs": [],
   "source": [
    "land_1c=np.nansum(np.ma.masked_where(land.mask==False, reg1c))/reg1c.values.sum()*100\n",
    "land_2c=np.nansum(np.ma.masked_where(land.mask==False, reg3c))/reg3c.values.sum()*100\n",
    "land_3c=np.nansum(np.ma.masked_where(land.mask==False, reg4c))/reg4c.values.sum()*100\n",
    "land_4c=np.nansum(np.ma.masked_where(land.mask==False, reg5c))/reg5c.values.sum()*100\n",
    "land_5c=np.nansum(np.ma.masked_where(land.mask==False, reg6c))/reg6c.values.sum()*100\n",
    "\n",
    "land_1f=np.nansum(np.ma.masked_where(land.mask==False, reg1f))/reg1f.values.sum()*100\n",
    "land_2f=np.nansum(np.ma.masked_where(land.mask==False, reg3f))/reg3f.values.sum()*100\n",
    "land_3f=np.nansum(np.ma.masked_where(land.mask==False, reg4f))/reg4f.values.sum()*100\n",
    "land_4f=np.nansum(np.ma.masked_where(land.mask==False, reg5f))/reg5f.values.sum()*100\n",
    "land_5f=np.nansum(np.ma.masked_where(land.mask==False, reg6f))/reg6f.values.sum()*100"
   ]
  },
  {
   "cell_type": "code",
   "execution_count": 7,
   "metadata": {},
   "outputs": [],
   "source": [
    "ao_1c=np.nansum(np.ma.masked_where(ao.mask==False, reg1c))/reg1c.values.sum()*100\n",
    "ao_2c=np.nansum(np.ma.masked_where(ao.mask==False, reg3c))/reg3c.values.sum()*100\n",
    "ao_3c=np.nansum(np.ma.masked_where(ao.mask==False, reg4c))/reg4c.values.sum()*100\n",
    "ao_4c=np.nansum(np.ma.masked_where(ao.mask==False, reg5c))/reg5c.values.sum()*100\n",
    "ao_5c=np.nansum(np.ma.masked_where(ao.mask==False, reg6c))/reg6c.values.sum()*100\n",
    "\n",
    "ao_1f=np.nansum(np.ma.masked_where(ao.mask==False, reg1f))/reg1f.values.sum()*100\n",
    "ao_2f=np.nansum(np.ma.masked_where(ao.mask==False, reg3f))/reg3f.values.sum()*100\n",
    "ao_3f=np.nansum(np.ma.masked_where(ao.mask==False, reg4f))/reg4f.values.sum()*100\n",
    "ao_4f=np.nansum(np.ma.masked_where(ao.mask==False, reg5f))/reg5f.values.sum()*100\n",
    "ao_5f=np.nansum(np.ma.masked_where(ao.mask==False, reg6f))/reg6f.values.sum()*100"
   ]
  },
  {
   "cell_type": "code",
   "execution_count": 8,
   "metadata": {},
   "outputs": [],
   "source": [
    "goa_1c=np.nansum(np.ma.masked_where(goa.mask==False, reg1c))/reg1c.values.sum()*100\n",
    "goa_2c=np.nansum(np.ma.masked_where(goa.mask==False, reg3c))/reg3c.values.sum()*100\n",
    "goa_3c=np.nansum(np.ma.masked_where(goa.mask==False, reg4c))/reg4c.values.sum()*100\n",
    "goa_4c=np.nansum(np.ma.masked_where(goa.mask==False, reg5c))/reg5c.values.sum()*100\n",
    "goa_5c=np.nansum(np.ma.masked_where(goa.mask==False, reg6c))/reg6c.values.sum()*100\n",
    "\n",
    "goa_1f=np.nansum(np.ma.masked_where(goa.mask==False, reg1f))/reg1f.values.sum()*100\n",
    "goa_2f=np.nansum(np.ma.masked_where(goa.mask==False, reg3f))/reg3f.values.sum()*100\n",
    "goa_3f=np.nansum(np.ma.masked_where(goa.mask==False, reg4f))/reg4f.values.sum()*100\n",
    "goa_4f=np.nansum(np.ma.masked_where(goa.mask==False, reg5f))/reg5f.values.sum()*100\n",
    "goa_5f=np.nansum(np.ma.masked_where(goa.mask==False, reg6f))/reg6f.values.sum()*100"
   ]
  },
  {
   "cell_type": "code",
   "execution_count": 9,
   "metadata": {},
   "outputs": [],
   "source": [
    "bs_1c=np.nansum(np.ma.masked_where(bs.mask==False, reg1c))/reg1c.values.sum()*100\n",
    "bs_2c=np.nansum(np.ma.masked_where(bs.mask==False, reg3c))/reg3c.values.sum()*100\n",
    "bs_3c=np.nansum(np.ma.masked_where(bs.mask==False, reg4c))/reg4c.values.sum()*100\n",
    "bs_4c=np.nansum(np.ma.masked_where(bs.mask==False, reg5c))/reg5c.values.sum()*100\n",
    "bs_5c=np.nansum(np.ma.masked_where(bs.mask==False, reg6c))/reg6c.values.sum()*100\n",
    "\n",
    "bs_1f=np.nansum(np.ma.masked_where(bs.mask==False, reg1f))/reg1f.values.sum()*100\n",
    "bs_2f=np.nansum(np.ma.masked_where(bs.mask==False, reg3f))/reg3f.values.sum()*100\n",
    "bs_3f=np.nansum(np.ma.masked_where(bs.mask==False, reg4f))/reg4f.values.sum()*100\n",
    "bs_4f=np.nansum(np.ma.masked_where(bs.mask==False, reg5f))/reg5f.values.sum()*100\n",
    "bs_5f=np.nansum(np.ma.masked_where(bs.mask==False, reg6f))/reg6f.values.sum()*100"
   ]
  },
  {
   "cell_type": "code",
   "execution_count": 10,
   "metadata": {},
   "outputs": [],
   "source": [
    "bars1=[goa_1c,goa_2c,goa_3c,goa_4c,goa_5c]\n",
    "bars2=[bs_1c,bs_2c,bs_3c,bs_4c,bs_5c]\n",
    "bars3=[ao_1c,ao_2c,ao_3c,ao_4c,ao_5c]\n",
    "bars4=[land_1c,land_2c,land_3c,land_4c,land_5c]\n",
    "\n",
    "bars5=[goa_1f,goa_2f,goa_3f,goa_4f,goa_5f]\n",
    "bars6=[bs_1f,bs_2f,bs_3f,bs_4f,bs_5f]\n",
    "bars7=[ao_1f,ao_2f,ao_3f,ao_4f,ao_5f]\n",
    "bars8=[land_1f,land_2f,land_3f,land_4f,land_5f]\n",
    "\n",
    "names = [regions_to_str(1)+' HIST',regions_to_str(1)+' PGW',\n",
    "         '',\n",
    "         regions_to_str(3)+' HIST',regions_to_str(3)+' PGW',\n",
    "         '',\n",
    "         regions_to_str(4)+' HIST',regions_to_str(4)+' PGW',\n",
    "         '',\n",
    "         regions_to_str(5)+' HIST',regions_to_str(5)+' PGW',\n",
    "         '',\n",
    "         regions_to_str(6)+' HIST',regions_to_str(6)+' PGW']"
   ]
  },
  {
   "cell_type": "code",
   "execution_count": 11,
   "metadata": {},
   "outputs": [],
   "source": [
    "bars12 = np.add(bars1, bars2).tolist()\n",
    "bars13 = np.add(bars12, bars3).tolist()\n",
    "\n",
    "bars56 = np.add(bars5, bars6).tolist()\n",
    "bars57 = np.add(bars56, bars7).tolist()"
   ]
  },
  {
   "cell_type": "code",
   "execution_count": 12,
   "metadata": {},
   "outputs": [
    {
     "data": {
      "image/png": "[encoded data removed]",
      "text/plain": [
       "<Figure size 432x288 with 1 Axes>"
      ]
     },
     "metadata": {
      "needs_background": "light"
     },
     "output_type": "display_data"
    }
   ],
   "source": [
    "plt.title(\"Air Parcel Frequency by Region\")\n",
    "\n",
    "plt.bar([0,3,6,9,12], bars1, color='salmon', edgecolor='white', width=1, label='GOA')\n",
    "plt.bar([0,3,6,9,12], bars2, bottom=bars1, color='slateblue', edgecolor='white', width=1, label='BS')\n",
    "plt.bar([0,3,6,9,12], bars3, bottom=bars12, color='steelblue', edgecolor='white', width=1, label='AO')\n",
    "plt.bar([0,3,6,9,12], bars4, bottom=bars13, color='k', edgecolor='white', width=1, label='Land')\n",
    "\n",
    "plt.bar([1,4,7,10,13], bars5, color='salmon', edgecolor='white', width=1)\n",
    "plt.bar([1,4,7,10,13], bars6, bottom=bars5, color='slateblue', edgecolor='white', width=1)\n",
    "plt.bar([1,4,7,10,13], bars7, bottom=bars56,color='steelblue', edgecolor='white', width=1)\n",
    "plt.bar([1,4,7,10,13], bars8, bottom=bars57,color='k', edgecolor='white', width=1)\n",
    "\n",
    "plt.xticks(np.arange(0,14), names, rotation=90)\n",
    "plt.legend(ncol=2, framealpha=0.9)\n",
    "\n",
    "plt.xlabel(\"Region\", fontsize=12)\n",
    "plt.ylabel(\"Percent of Total\", fontsize=12)\n",
    "\n",
    "plt.margins(x=0.,y=0.)\n",
    "\n",
    "plt.savefig(f\"/glade/work/molina/DATA/temp_figs/alaska_freq_bar1.png\", bbox_inches='tight', dpi=200)"
   ]
  },
  {
   "cell_type": "code",
   "execution_count": null,
   "metadata": {},
   "outputs": [],
   "source": []
  }
 ],
 "metadata": {
  "kernelspec": {
   "display_name": "Python [conda env:miniconda3-python-tutorial]",
   "language": "python",
   "name": "conda-env-miniconda3-python-tutorial-py"
  },
  "language_info": {
   "codemirror_mode": {
    "name": "ipython",
    "version": 3
   },
   "file_extension": ".py",
   "mimetype": "text/x-python",
   "name": "python",
   "nbconvert_exporter": "python",
   "pygments_lexer": "ipython3",
   "version": "3.7.3"
  }
 },
 "nbformat": 4,
 "nbformat_minor": 4
}
