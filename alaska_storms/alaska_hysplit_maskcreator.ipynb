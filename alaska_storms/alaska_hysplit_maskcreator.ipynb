{
 "cells": [
  {
   "cell_type": "code",
   "execution_count": 1,
   "metadata": {},
   "outputs": [],
   "source": [
    "import pysplit\n",
    "import pandas as pd\n",
    "import numpy as np\n",
    "from wrf import getvar, get_basemap, latlon_coords\n",
    "from netCDF4 import Dataset\n",
    "import matplotlib.pyplot as plt\n",
    "import seaborn as sns\n",
    "import argparse\n",
    "import matplotlib as mpl\n",
    "import xarray as xr\n",
    "from itertools import product\n",
    "import cartopy.crs as ccrs\n",
    "import cartopy.io.shapereader as shpreader\n",
    "import shapely.geometry as sgeom\n",
    "from shapely.ops import unary_union\n",
    "from shapely.prepared import prep\n",
    "from mpl_toolkits.basemap import Basemap\n",
    "from matplotlib.collections import PatchCollection\n",
    "import matplotlib.patches as mpatches\n",
    "import geopandas as gpd\n",
    "import shapely\n",
    "from descartes import PolygonPatch\n",
    "from shapely.geometry import Point"
   ]
  },
  {
   "cell_type": "code",
   "execution_count": 2,
   "metadata": {},
   "outputs": [],
   "source": [
    "can = gpd.GeoDataFrame.from_file(\"/glade/work/molina/DATA/ocean_shapefiles/ne_50m_geography_marine_polys.shp\")\n",
    "\n",
    "#goa\n",
    "goa1 = can[can['name']== 'Gulf of Alaska']\n",
    "goa2 = can[can['name']== 'North Pacific Ocean']\n",
    "goa3 = can[can['name']== 'Cook Inlet']\n",
    "#bs\n",
    "bs1 = can[can['name']== 'Bering Sea']\n",
    "bs2 = can[can['name']== 'Bristol Bay']\n",
    "#ao\n",
    "ao1 = can[can['name']== 'Arctic Ocean']\n",
    "ao2 = can[can['name']== 'Beaufort Sea']\n",
    "ao3 = can[can['name']== 'Chukchi Sea']\n",
    "ao4 = can[can['name']== 'Amundsen Gulf']"
   ]
  },
  {
   "cell_type": "code",
   "execution_count": 3,
   "metadata": {},
   "outputs": [],
   "source": [
    "land_shp_fname = shpreader.natural_earth(resolution='50m', category='physical', name='land')\n",
    "land_geom = unary_union(list(shpreader.Reader(land_shp_fname).geometries()))\n",
    "land = prep(land_geom)\n",
    "def is_land(x, y):\n",
    "    return land.contains(sgeom.Point(x, y))"
   ]
  },
  {
   "cell_type": "code",
   "execution_count": 4,
   "metadata": {},
   "outputs": [],
   "source": [
    "which_climate='hist'\n",
    "ds1=xr.open_dataset(f\"/glade/scratch/molina/basile/traj_files/trajfile_jun_subregion1_{which_climate}.nc\").frequency"
   ]
  },
  {
   "cell_type": "code",
   "execution_count": 5,
   "metadata": {},
   "outputs": [],
   "source": [
    "wrffile = Dataset('/glade/scratch/molina/basile/wrfout_d01_2002-12-30_18:00:00.nc4')\n",
    "tfile = getvar(wrffile, 'tk')\n",
    "m = get_basemap(tfile)\n",
    "lats, lons = latlon_coords(tfile)"
   ]
  },
  {
   "cell_type": "code",
   "execution_count": 6,
   "metadata": {},
   "outputs": [],
   "source": [
    "x, y = np.meshgrid(ds1.lons.values, ds1.lats.values)\n",
    "xnew, ynew = m(x, y, inverse=True)"
   ]
  },
  {
   "cell_type": "code",
   "execution_count": 7,
   "metadata": {},
   "outputs": [],
   "source": [
    "themask=np.zeros(ds1.shape)\n",
    "goamask=np.zeros(ds1.shape)\n",
    "bsmask=np.zeros(ds1.shape)\n",
    "aomask=np.zeros(ds1.shape)\n",
    "\n",
    "nonemask=np.zeros(ds1.shape)"
   ]
  },
  {
   "cell_type": "code",
   "execution_count": 8,
   "metadata": {},
   "outputs": [],
   "source": [
    "AO_others=[[44, 1],\n",
    " [44, 2],\n",
    " [45, 0],\n",
    " [45, 1],\n",
    " [45, 2],\n",
    " [45, 3],\n",
    " [45, 4],\n",
    " [45, 5],\n",
    " [46, 0],\n",
    " [46, 1],\n",
    " [46, 2],\n",
    " [46, 3],\n",
    " [46, 4],\n",
    " [46, 5],\n",
    " [47, 0],\n",
    " [47, 1],\n",
    " [47, 2],\n",
    " [47, 3],\n",
    " [47, 4],\n",
    " [47, 5],\n",
    " [47, 45],\n",
    " [46, 45],\n",
    " [46, 47],\n",
    " [46, 51],\n",
    " [45, 49],\n",
    " [44, 48],\n",
    " [43, 51],\n",
    " [42, 50],\n",
    " [42, 49],\n",
    " [37, 37],\n",
    " [37, 36],\n",
    " [36, 36],\n",
    " [36, 35],\n",
    " [36, 34],\n",
    " [30, 14],\n",
    " [30, 15],\n",
    " [30, 16],\n",
    " [31, 14]]"
   ]
  },
  {
   "cell_type": "code",
   "execution_count": 9,
   "metadata": {},
   "outputs": [],
   "source": [
    "BS_others=[[33, 0],\n",
    " [32, 0],\n",
    " [32, 1],\n",
    " [32, 2],\n",
    " [31, 0],\n",
    " [31, 1],\n",
    " [31, 2],\n",
    " [30, 0],\n",
    " [30, 1],\n",
    " [30, 2],\n",
    " [30, 3],\n",
    " [29, 0],\n",
    " [29, 1],\n",
    " [29, 2],\n",
    " [29, 3],\n",
    " [28, 0],\n",
    " [28, 1],\n",
    " [26, 12],\n",
    " [26, 13],\n",
    " [26, 14],\n",
    " [26, 15],\n",
    " [25, 12],\n",
    " [25, 13],\n",
    " [25, 14],\n",
    " [25, 15],\n",
    " [24, 12],\n",
    " [24, 13],\n",
    " [24, 14],\n",
    " [24, 15],\n",
    " [18, 10]]"
   ]
  },
  {
   "cell_type": "code",
   "execution_count": 10,
   "metadata": {},
   "outputs": [],
   "source": [
    "GOA_others=[[3, 51],\n",
    " [4, 50],\n",
    " [4, 51],\n",
    " [5, 49],\n",
    " [5, 50],\n",
    " [5, 51],\n",
    " [6, 48],\n",
    " [6, 49],\n",
    " [6, 50],\n",
    " [6, 51],\n",
    " [7, 49],\n",
    " [7, 50],\n",
    " [7, 51],\n",
    " [8, 48],\n",
    " [8, 51],\n",
    " [9, 45],\n",
    " [9, 46],\n",
    " [9, 47],\n",
    " [9, 48],\n",
    " [10, 47],\n",
    " [11, 44],\n",
    " [11, 45],\n",
    " [11, 46],\n",
    " [12, 45],\n",
    " [13, 42],\n",
    " [13, 43],\n",
    " [14, 41],\n",
    " [15, 28],\n",
    " [16, 28],\n",
    " [16, 29],\n",
    " [16, 30],\n",
    " [17, 29]]"
   ]
  },
  {
   "cell_type": "code",
   "execution_count": 11,
   "metadata": {},
   "outputs": [],
   "source": [
    "none_points=[]\n",
    "\n",
    "for i, j in product(range(0,themask.shape[0]), range(0,themask.shape[1])):\n",
    "    \n",
    "    if is_land(xnew[i,j], ynew[i,j]):\n",
    "        themask[i,j]=1.\n",
    "\n",
    "    elif goa1.geometry.contains(Point(xnew[i,j], ynew[i,j])).values[0]:\n",
    "        goamask[i,j]=1.\n",
    "        #print('Gulf of Alaska')\n",
    "    elif goa2.geometry.contains(Point(xnew[i,j], ynew[i,j])).values[0]:\n",
    "        goamask[i,j]=1.\n",
    "        #print('Gulf of Alaska')\n",
    "    elif goa3.geometry.contains(Point(xnew[i,j], ynew[i,j])).values[0]:\n",
    "        goamask[i,j]=1.\n",
    "        #print('Gulf of Alaska')\n",
    "        \n",
    "    elif bs1.geometry.contains(Point(xnew[i,j], ynew[i,j])).values[0]:\n",
    "        bsmask[i,j]=1.\n",
    "        #print('Bering Sea')\n",
    "    elif bs2.geometry.contains(Point(xnew[i,j], ynew[i,j])).values[0]:\n",
    "        bsmask[i,j]=1.\n",
    "        #print('Bering Sea')\n",
    "        \n",
    "    elif ao1.geometry.contains(Point(xnew[i,j], ynew[i,j])).values[0]:\n",
    "        aomask[i,j]=1.\n",
    "        #print('Arctic Ocean')\n",
    "    elif ao2.geometry.contains(Point(xnew[i,j], ynew[i,j])).values[0]:\n",
    "        aomask[i,j]=1.\n",
    "        #print('Arctic Ocean')\n",
    "    elif ao3.geometry.contains(Point(xnew[i,j], ynew[i,j])).values[0]:\n",
    "        aomask[i,j]=1.\n",
    "        #print('Arctic Ocean')\n",
    "    elif ao4.geometry.contains(Point(xnew[i,j], ynew[i,j])).values[0]:\n",
    "        aomask[i,j]=1.\n",
    "        #print('Arctic Ocean')\n",
    "        \n",
    "    else:\n",
    "        nonemask[i,j]=1."
   ]
  },
  {
   "cell_type": "code",
   "execution_count": 12,
   "metadata": {},
   "outputs": [],
   "source": [
    "for i in GOA_others:\n",
    "    goamask[i[0],i[1]]=1.\n",
    "for i in AO_others:\n",
    "    aomask[i[0],i[1]]=1.\n",
    "for i in BS_others:\n",
    "    bsmask[i[0],i[1]]=1."
   ]
  },
  {
   "cell_type": "code",
   "execution_count": 13,
   "metadata": {},
   "outputs": [],
   "source": [
    "ds = xr.Dataset({\n",
    "                 'land':(['lats','lons'],themask),\n",
    "                 'goa':(['lats','lons'],goamask),\n",
    "                 'bs':(['lats','lons'],bsmask),\n",
    "                 'ao':(['lats','lons'],aomask),\n",
    "                 'none':(['lats','lons'],nonemask),\n",
    "                },\n",
    "                 attrs={'Trajectories and File Author':'Maria J. Molina'})"
   ]
  },
  {
   "cell_type": "code",
   "execution_count": 14,
   "metadata": {},
   "outputs": [
    {
     "data": {
      "text/html": [
       "<pre>&lt;xarray.Dataset&gt;\n",
       "Dimensions:  (lats: 48, lons: 52)\n",
       "Dimensions without coordinates: lats, lons\n",
       "Data variables:\n",
       "    land     (lats, lons) float64 0.0 0.0 0.0 0.0 0.0 ... 1.0 1.0 1.0 1.0 1.0\n",
       "    goa      (lats, lons) float64 1.0 1.0 1.0 1.0 1.0 ... 0.0 0.0 0.0 0.0 0.0\n",
       "    bs       (lats, lons) float64 0.0 0.0 0.0 0.0 0.0 ... 0.0 0.0 0.0 0.0 0.0\n",
       "    ao       (lats, lons) float64 0.0 0.0 0.0 0.0 0.0 ... 0.0 0.0 0.0 0.0 0.0\n",
       "    none     (lats, lons) float64 0.0 0.0 0.0 0.0 0.0 ... 0.0 0.0 0.0 0.0 0.0\n",
       "Attributes:\n",
       "    Trajectories and File Author:  Maria J. Molina</pre>"
      ],
      "text/plain": [
       "<xarray.Dataset>\n",
       "Dimensions:  (lats: 48, lons: 52)\n",
       "Dimensions without coordinates: lats, lons\n",
       "Data variables:\n",
       "    land     (lats, lons) float64 0.0 0.0 0.0 0.0 0.0 ... 1.0 1.0 1.0 1.0 1.0\n",
       "    goa      (lats, lons) float64 1.0 1.0 1.0 1.0 1.0 ... 0.0 0.0 0.0 0.0 0.0\n",
       "    bs       (lats, lons) float64 0.0 0.0 0.0 0.0 0.0 ... 0.0 0.0 0.0 0.0 0.0\n",
       "    ao       (lats, lons) float64 0.0 0.0 0.0 0.0 0.0 ... 0.0 0.0 0.0 0.0 0.0\n",
       "    none     (lats, lons) float64 0.0 0.0 0.0 0.0 0.0 ... 0.0 0.0 0.0 0.0 0.0\n",
       "Attributes:\n",
       "    Trajectories and File Author:  Maria J. Molina"
      ]
     },
     "execution_count": 14,
     "metadata": {},
     "output_type": "execute_result"
    }
   ],
   "source": [
    "ds"
   ]
  },
  {
   "cell_type": "code",
   "execution_count": 16,
   "metadata": {},
   "outputs": [],
   "source": [
    "ds.to_netcdf(f'/glade/scratch/molina/basile/maskfile.nc')"
   ]
  },
  {
   "cell_type": "code",
   "execution_count": null,
   "metadata": {},
   "outputs": [],
   "source": []
  }
 ],
 "metadata": {
  "kernelspec": {
   "display_name": "Python [conda env:miniconda3-python-tutorial]",
   "language": "python",
   "name": "conda-env-miniconda3-python-tutorial-py"
  },
  "language_info": {
   "codemirror_mode": {
    "name": "ipython",
    "version": 3
   },
   "file_extension": ".py",
   "mimetype": "text/x-python",
   "name": "python",
   "nbconvert_exporter": "python",
   "pygments_lexer": "ipython3",
   "version": "3.7.3"
  }
 },
 "nbformat": 4,
 "nbformat_minor": 4
}
