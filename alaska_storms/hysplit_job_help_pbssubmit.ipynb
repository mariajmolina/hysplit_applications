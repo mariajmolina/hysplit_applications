{
 "cells": [
  {
   "cell_type": "markdown",
   "metadata": {},
   "source": [
    "Make sure in directory that contains ``run_hysplit_ens``"
   ]
  },
  {
   "cell_type": "code",
   "execution_count": 1,
   "metadata": {},
   "outputs": [
    {
     "data": {
      "text/plain": [
       "'/glade/u/home/molina/python_scripts'"
      ]
     },
     "execution_count": 1,
     "metadata": {},
     "output_type": "execute_result"
    }
   ],
   "source": [
    "pwd"
   ]
  },
  {
   "cell_type": "markdown",
   "metadata": {},
   "source": [
    "Import packages"
   ]
  },
  {
   "cell_type": "code",
   "execution_count": 2,
   "metadata": {},
   "outputs": [],
   "source": [
    "import subprocess\n",
    "import numpy as np"
   ]
  },
  {
   "cell_type": "markdown",
   "metadata": {},
   "source": [
    "Choose parameters for next set of runs."
   ]
  },
  {
   "cell_type": "code",
   "execution_count": 6,
   "metadata": {},
   "outputs": [],
   "source": [
    "#hist or pgw\n",
    "which_climate='pgw'\n",
    "#6, 7, or 8\n",
    "which_month=5"
   ]
  },
  {
   "cell_type": "markdown",
   "metadata": {},
   "source": [
    "Don't change anything down from here."
   ]
  },
  {
   "cell_type": "code",
   "execution_count": 7,
   "metadata": {},
   "outputs": [],
   "source": [
    "clirun=np.asarray([which_climate for i in range(36)])\n",
    "monrun=np.asarray([which_month for i in range(36)])\n",
    "start=np.array([0,36,72,108,144,180,216,252,288,324])\n",
    "end=np.array([35,71,107,143,179,215,251,287,323,342])"
   ]
  },
  {
   "cell_type": "markdown",
   "metadata": {},
   "source": [
    "Scope out the submitted jobs commands before submitting."
   ]
  },
  {
   "cell_type": "code",
   "execution_count": 8,
   "metadata": {},
   "outputs": [
    {
     "name": "stdout",
     "output_type": "stream",
     "text": [
      "qsub -v CLIMATERUN=pgw,MONTHRUN=5,ENSSTART=0,ENSEND=35 run_hysplit_ens.pbs\n",
      "qsub -v CLIMATERUN=pgw,MONTHRUN=5,ENSSTART=36,ENSEND=71 run_hysplit_ens.pbs\n",
      "qsub -v CLIMATERUN=pgw,MONTHRUN=5,ENSSTART=72,ENSEND=107 run_hysplit_ens.pbs\n",
      "qsub -v CLIMATERUN=pgw,MONTHRUN=5,ENSSTART=108,ENSEND=143 run_hysplit_ens.pbs\n",
      "qsub -v CLIMATERUN=pgw,MONTHRUN=5,ENSSTART=144,ENSEND=179 run_hysplit_ens.pbs\n",
      "qsub -v CLIMATERUN=pgw,MONTHRUN=5,ENSSTART=180,ENSEND=215 run_hysplit_ens.pbs\n",
      "qsub -v CLIMATERUN=pgw,MONTHRUN=5,ENSSTART=216,ENSEND=251 run_hysplit_ens.pbs\n",
      "qsub -v CLIMATERUN=pgw,MONTHRUN=5,ENSSTART=252,ENSEND=287 run_hysplit_ens.pbs\n",
      "qsub -v CLIMATERUN=pgw,MONTHRUN=5,ENSSTART=288,ENSEND=323 run_hysplit_ens.pbs\n",
      "qsub -v CLIMATERUN=pgw,MONTHRUN=5,ENSSTART=324,ENSEND=342 run_hysplit_ens.pbs\n"
     ]
    }
   ],
   "source": [
    "for cli, mon, st, en in zip(clirun, monrun, start, end):\n",
    "    qsub_command = f\"qsub -v CLIMATERUN={cli},MONTHRUN={mon},ENSSTART={st},ENSEND={en} run_hysplit_ens.pbs\"\n",
    "    print(qsub_command)"
   ]
  },
  {
   "cell_type": "markdown",
   "metadata": {},
   "source": [
    "### Ready?\n",
    "Proceed to submit jobs :)"
   ]
  },
  {
   "cell_type": "code",
   "execution_count": 29,
   "metadata": {},
   "outputs": [
    {
     "name": "stdout",
     "output_type": "stream",
     "text": [
      "qsub -v CLIMATERUN=hist,MONTHRUN=7,ENSSTART=0,ENSEND=35 run_hysplit_ens\n",
      "qsub -v CLIMATERUN=hist,MONTHRUN=7,ENSSTART=36,ENSEND=71 run_hysplit_ens\n",
      "qsub -v CLIMATERUN=hist,MONTHRUN=7,ENSSTART=72,ENSEND=107 run_hysplit_ens\n",
      "qsub -v CLIMATERUN=hist,MONTHRUN=7,ENSSTART=108,ENSEND=143 run_hysplit_ens\n",
      "qsub -v CLIMATERUN=hist,MONTHRUN=7,ENSSTART=144,ENSEND=179 run_hysplit_ens\n",
      "qsub -v CLIMATERUN=hist,MONTHRUN=7,ENSSTART=180,ENSEND=215 run_hysplit_ens\n",
      "qsub -v CLIMATERUN=hist,MONTHRUN=7,ENSSTART=216,ENSEND=251 run_hysplit_ens\n",
      "qsub -v CLIMATERUN=hist,MONTHRUN=7,ENSSTART=252,ENSEND=287 run_hysplit_ens\n",
      "qsub -v CLIMATERUN=hist,MONTHRUN=7,ENSSTART=288,ENSEND=323 run_hysplit_ens\n",
      "qsub -v CLIMATERUN=hist,MONTHRUN=7,ENSSTART=324,ENSEND=342 run_hysplit_ens\n",
      "Done submitting jobs!\n"
     ]
    }
   ],
   "source": [
    "for cli, mon, st, en in zip(clirun, monrun, start, end):\n",
    "    qsub_command = f\"qsub -v CLIMATERUN={cli},MONTHRUN={mon},ENSSTART={st},ENSEND={en} run_hysplit_ens\"\n",
    "    print(qsub_command)\n",
    "    exit_status = subprocess.call(qsub_command, shell=True)\n",
    "    #if exit_status is 1:  # Check to make sure the job submitted\n",
    "    #    print(\"Job {0} failed to submit\".format(qsub_command))\n",
    "print(\"Done submitting jobs!\")"
   ]
  },
  {
   "cell_type": "code",
   "execution_count": 30,
   "metadata": {},
   "outputs": [
    {
     "data": {
      "text/plain": [
       "0"
      ]
     },
     "execution_count": 30,
     "metadata": {},
     "output_type": "execute_result"
    }
   ],
   "source": [
    "exit_status"
   ]
  },
  {
   "cell_type": "code",
   "execution_count": null,
   "metadata": {},
   "outputs": [],
   "source": []
  }
 ],
 "metadata": {
  "kernelspec": {
   "display_name": "Python [conda env:miniconda3-python-tutorial]",
   "language": "python",
   "name": "conda-env-miniconda3-python-tutorial-py"
  },
  "language_info": {
   "codemirror_mode": {
    "name": "ipython",
    "version": 3
   },
   "file_extension": ".py",
   "mimetype": "text/x-python",
   "name": "python",
   "nbconvert_exporter": "python",
   "pygments_lexer": "ipython3",
   "version": "3.7.3"
  }
 },
 "nbformat": 4,
 "nbformat_minor": 4
}
