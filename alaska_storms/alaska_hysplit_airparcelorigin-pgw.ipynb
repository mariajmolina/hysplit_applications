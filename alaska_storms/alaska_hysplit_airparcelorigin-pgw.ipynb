{
 "cells": [
  {
   "cell_type": "code",
   "execution_count": 1,
   "metadata": {},
   "outputs": [],
   "source": [
    "import pysplit\n",
    "import pandas as pd\n",
    "import numpy as np\n",
    "from wrf import getvar, get_basemap, latlon_coords\n",
    "from netCDF4 import Dataset\n",
    "import matplotlib.pyplot as plt\n",
    "import seaborn as sns\n",
    "import argparse\n",
    "import matplotlib as mpl\n",
    "import xarray as xr\n",
    "from itertools import product\n",
    "import cartopy.crs as ccrs\n",
    "import cartopy.io.shapereader as shpreader\n",
    "import shapely.geometry as sgeom\n",
    "from shapely.ops import unary_union\n",
    "from shapely.prepared import prep\n",
    "from mpl_toolkits.basemap import Basemap\n",
    "from matplotlib.collections import PatchCollection\n",
    "import matplotlib.patches as mpatches\n",
    "import geopandas as gpd\n",
    "import shapely\n",
    "from descartes import PolygonPatch\n",
    "from shapely.geometry import Point"
   ]
  },
  {
   "cell_type": "code",
   "execution_count": 2,
   "metadata": {},
   "outputs": [],
   "source": [
    "can = gpd.GeoDataFrame.from_file(\"/glade/work/molina/DATA/ocean_shapefiles/ne_50m_geography_marine_polys.shp\")\n",
    "\n",
    "#goa\n",
    "goa1 = can[can['name']== 'Gulf of Alaska']\n",
    "goa2 = can[can['name']== 'North Pacific Ocean']\n",
    "goa3 = can[can['name']== 'Cook Inlet']\n",
    "#bs\n",
    "bs1 = can[can['name']== 'Bering Sea']\n",
    "bs2 = can[can['name']== 'Bristol Bay']\n",
    "#ao\n",
    "ao1 = can[can['name']== 'Arctic Ocean']\n",
    "ao2 = can[can['name']== 'Beaufort Sea']\n",
    "ao3 = can[can['name']== 'Chukchi Sea']\n",
    "ao4 = can[can['name']== 'Amundsen Gulf']"
   ]
  },
  {
   "cell_type": "code",
   "execution_count": 3,
   "metadata": {},
   "outputs": [],
   "source": [
    "land_shp_fname = shpreader.natural_earth(resolution='50m', category='physical', name='land')\n",
    "land_geom = unary_union(list(shpreader.Reader(land_shp_fname).geometries()))\n",
    "land = prep(land_geom)\n",
    "def is_land(x, y):\n",
    "    return land.contains(sgeom.Point(x, y))"
   ]
  },
  {
   "cell_type": "code",
   "execution_count": 4,
   "metadata": {},
   "outputs": [],
   "source": [
    "wrffile = Dataset('/glade/scratch/molina/basile/wrfout_d01_2002-12-30_18:00:00.nc4')\n",
    "tfile = getvar(wrffile, 'tk')\n",
    "m = get_basemap(tfile)\n",
    "lats, lons = latlon_coords(tfile)"
   ]
  },
  {
   "cell_type": "code",
   "execution_count": 33,
   "metadata": {},
   "outputs": [],
   "source": [
    "which_climate='pgw'\n",
    "which_month='may'\n",
    "which_region='subregion6'"
   ]
  },
  {
   "cell_type": "code",
   "execution_count": 34,
   "metadata": {},
   "outputs": [
    {
     "name": "stdout",
     "output_type": "stream",
     "text": [
      "8848\n"
     ]
    }
   ],
   "source": [
    "#trajgroup = pysplit.make_trajectorygroup(\n",
    "#    f'/glade/scratch/molina/basile/{which_climate}_traj_{which_month}/trajid*_{which_region}_ens*_{which_month}*summer*')\n",
    "#print(trajgroup.trajcount)\n",
    "trajgroup = pysplit.make_trajectorygroup(\n",
    "    f'/glade/scratch/molina/basile/{which_climate}_traj_{which_month}/trajid*_{which_region}_ens*_{which_month}*spring*')\n",
    "print(trajgroup.trajcount)"
   ]
  },
  {
   "cell_type": "code",
   "execution_count": 35,
   "metadata": {},
   "outputs": [],
   "source": [
    "x_trajs = np.array([np.array(traj.path.coords[:])[-1,0] for traj in trajgroup]).flatten()\n",
    "y_trajs = np.array([np.array(traj.path.coords[:])[-1,1] for traj in trajgroup]).flatten()"
   ]
  },
  {
   "cell_type": "code",
   "execution_count": 36,
   "metadata": {},
   "outputs": [],
   "source": [
    "none_pointsx=[]\n",
    "none_pointsy=[]\n",
    "land_pointsx=[]\n",
    "land_pointsy=[]\n",
    "goa_pointsx=[]\n",
    "goa_pointsy=[]\n",
    "bs_pointsx=[]\n",
    "bs_pointsy=[]\n",
    "ao_pointsx=[]\n",
    "ao_pointsy=[]\n",
    "\n",
    "for x, y in zip(x_trajs, y_trajs):\n",
    "    \n",
    "    if is_land(x, y):\n",
    "        land_pointsx.append(x)\n",
    "        land_pointsy.append(y)\n",
    "\n",
    "    elif goa1.geometry.contains(Point(x, y)).values[0]:\n",
    "        goa_pointsx.append(x)\n",
    "        goa_pointsy.append(y)\n",
    "        \n",
    "    elif goa2.geometry.contains(Point(x, y)).values[0]:\n",
    "        goa_pointsx.append(x)\n",
    "        goa_pointsy.append(y)\n",
    "        \n",
    "    elif goa3.geometry.contains(Point(x, y)).values[0]:\n",
    "        goa_pointsx.append(x)\n",
    "        goa_pointsy.append(y)\n",
    "        \n",
    "    elif bs1.geometry.contains(Point(x, y)).values[0]:\n",
    "        bs_pointsx.append(x)\n",
    "        bs_pointsy.append(y)\n",
    "        \n",
    "    elif bs2.geometry.contains(Point(x, y)).values[0]:\n",
    "        bs_pointsx.append(x)\n",
    "        bs_pointsy.append(y)\n",
    "        \n",
    "    elif ao1.geometry.contains(Point(x, y)).values[0]:\n",
    "        ao_pointsx.append(x)\n",
    "        ao_pointsy.append(y)\n",
    "        \n",
    "    elif ao2.geometry.contains(Point(x, y)).values[0]:\n",
    "        ao_pointsx.append(x)\n",
    "        ao_pointsy.append(y)\n",
    "        \n",
    "    elif ao3.geometry.contains(Point(x, y)).values[0]:\n",
    "        ao_pointsx.append(x)\n",
    "        ao_pointsy.append(y)\n",
    "        \n",
    "    elif ao4.geometry.contains(Point(x, y)).values[0]:\n",
    "        ao_pointsx.append(x)\n",
    "        ao_pointsy.append(y)\n",
    "        \n",
    "    else:\n",
    "        none_pointsx.append(x)\n",
    "        none_pointsy.append(y)\n",
    "        "
   ]
  },
  {
   "cell_type": "code",
   "execution_count": 37,
   "metadata": {},
   "outputs": [],
   "source": [
    "ds = xr.Dataset({'land_pointsx':(['a'], np.array(land_pointsx)),\n",
    "                 'land_pointsy':(['a'], np.array(land_pointsy)),\n",
    "                 'goa_pointsx':(['b'], np.array(goa_pointsx)),\n",
    "                 'goa_pointsy':(['b'], np.array(goa_pointsy)),\n",
    "                 'bs_pointsx':(['c'], np.array(bs_pointsx)),\n",
    "                 'bs_pointsy':(['c'], np.array(bs_pointsy)),\n",
    "                 'ao_pointsx':(['d'], np.array(ao_pointsx)),          \n",
    "                 'ao_pointsy':(['d'], np.array(ao_pointsy)),\n",
    "                 'none_pointsx':(['e'], np.array(none_pointsx)),\n",
    "                 'none_pointsy':(['e'], np.array(none_pointsy)),\n",
    "                },\n",
    "                 attrs={'Trajectories and File Author':'Maria J. Molina',\n",
    "                        'Trajectory Count':str(trajgroup.trajcount)})"
   ]
  },
  {
   "cell_type": "code",
   "execution_count": 38,
   "metadata": {},
   "outputs": [
    {
     "data": {
      "text/html": [
       "<pre>&lt;xarray.Dataset&gt;\n",
       "Dimensions:       (a: 606, b: 7128, c: 60, d: 850, e: 204)\n",
       "Dimensions without coordinates: a, b, c, d, e\n",
       "Data variables:\n",
       "    land_pointsx  (a) float64 172.7 175.7 176.6 172.9 ... -128.4 -122.4 -166.2\n",
       "    land_pointsy  (a) float64 69.77 68.2 68.04 69.88 ... 65.77 63.75 63.89 68.41\n",
       "    goa_pointsx   (b) float64 -161.5 -139.9 -144.0 ... -137.4 -141.4 -136.8\n",
       "    goa_pointsy   (b) float64 52.88 53.15 59.76 52.83 ... 52.52 52.98 52.64\n",
       "    bs_pointsx    (c) float64 -171.3 -173.9 -172.9 ... -172.6 -167.7 -168.1\n",
       "    bs_pointsy    (c) float64 59.01 60.35 62.17 63.26 ... 56.84 62.2 63.24 65.46\n",
       "    ao_pointsx    (d) float64 -177.6 -159.6 -177.9 ... -136.0 -136.0 -136.0\n",
       "    ao_pointsy    (d) float64 73.09 74.81 69.46 74.76 ... 74.6 74.6 74.6 74.6\n",
       "    none_pointsx  (e) float64 172.0 171.7 171.1 172.0 ... -131.0 -130.7 -130.8\n",
       "    none_pointsy  (e) float64 70.17 70.49 70.48 70.47 ... 53.36 53.85 53.91\n",
       "Attributes:\n",
       "    Trajectories and File Author:  Maria J. Molina\n",
       "    Trajectory Count:              8848</pre>"
      ],
      "text/plain": [
       "<xarray.Dataset>\n",
       "Dimensions:       (a: 606, b: 7128, c: 60, d: 850, e: 204)\n",
       "Dimensions without coordinates: a, b, c, d, e\n",
       "Data variables:\n",
       "    land_pointsx  (a) float64 172.7 175.7 176.6 172.9 ... -128.4 -122.4 -166.2\n",
       "    land_pointsy  (a) float64 69.77 68.2 68.04 69.88 ... 65.77 63.75 63.89 68.41\n",
       "    goa_pointsx   (b) float64 -161.5 -139.9 -144.0 ... -137.4 -141.4 -136.8\n",
       "    goa_pointsy   (b) float64 52.88 53.15 59.76 52.83 ... 52.52 52.98 52.64\n",
       "    bs_pointsx    (c) float64 -171.3 -173.9 -172.9 ... -172.6 -167.7 -168.1\n",
       "    bs_pointsy    (c) float64 59.01 60.35 62.17 63.26 ... 56.84 62.2 63.24 65.46\n",
       "    ao_pointsx    (d) float64 -177.6 -159.6 -177.9 ... -136.0 -136.0 -136.0\n",
       "    ao_pointsy    (d) float64 73.09 74.81 69.46 74.76 ... 74.6 74.6 74.6 74.6\n",
       "    none_pointsx  (e) float64 172.0 171.7 171.1 172.0 ... -131.0 -130.7 -130.8\n",
       "    none_pointsy  (e) float64 70.17 70.49 70.48 70.47 ... 53.36 53.85 53.91\n",
       "Attributes:\n",
       "    Trajectories and File Author:  Maria J. Molina\n",
       "    Trajectory Count:              8848"
      ]
     },
     "execution_count": 38,
     "metadata": {},
     "output_type": "execute_result"
    }
   ],
   "source": [
    "ds"
   ]
  },
  {
   "cell_type": "code",
   "execution_count": 39,
   "metadata": {},
   "outputs": [],
   "source": [
    "ds.to_netcdf(f'/glade/scratch/molina/basile/traj_files/originfile_{which_month}_{which_region}_{which_climate}.nc')"
   ]
  },
  {
   "cell_type": "code",
   "execution_count": null,
   "metadata": {},
   "outputs": [],
   "source": []
  }
 ],
 "metadata": {
  "kernelspec": {
   "display_name": "Python [conda env:miniconda3-python-tutorial]",
   "language": "python",
   "name": "conda-env-miniconda3-python-tutorial-py"
  },
  "language_info": {
   "codemirror_mode": {
    "name": "ipython",
    "version": 3
   },
   "file_extension": ".py",
   "mimetype": "text/x-python",
   "name": "python",
   "nbconvert_exporter": "python",
   "pygments_lexer": "ipython3",
   "version": "3.7.3"
  }
 },
 "nbformat": 4,
 "nbformat_minor": 4
}
